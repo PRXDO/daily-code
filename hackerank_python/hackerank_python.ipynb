{
 "cells": [
  {
   "cell_type": "markdown",
   "id": "58cf47fd",
   "metadata": {},
   "source": [
    "### Exercise 1\n",
    "#### Date: 15/10/2025\n",
    "\n",
    "#### Objective: Inverting an array\n",
    "#### Input: [1,2,3]\n",
    "#### Output: [3,2,1] \n",
    "\n",
    "#### Complexity:\n",
    "#### Time: O(n), reason: the more the number of elements in the array, more time will take to print it\n",
    "#### Space: O(n), reason: the size of the output array will be the same size of the input array"
   ]
  },
  {
   "cell_type": "code",
   "execution_count": null,
   "id": "034c75a7",
   "metadata": {},
   "outputs": [],
   "source": [
    "def reverseArray(array):\n",
    "    reversedArray = []\n",
    "    # the range function create a sequence with parameters, the first determines where it starts\n",
    "    # and we use the len to get the array length and -1 garantee that stays in the index limit( arrays start on 0)\n",
    "    # the second parameter it where the sequence must end, we want to end it in 0, but if we pass 0, it will stop on 1, so we pass -1 and it stops in 0\n",
    "    # the third parameter is the step, we want to go back, so we pass -1, so it decrements the count\n",
    "    # then, we append each item from the array to the new reversedArray\n",
    "    for item in range(len(array)-1,-1,-1):\n",
    "        reversedArray.append(array[item])\n",
    "    return reversedArray\n",
    "    \n",
    "print(reverseArray([1, 2, 3]))\n"
   ]
  },
  {
   "cell_type": "markdown",
   "id": "e7f706c4",
   "metadata": {},
   "source": [
    "### Exercise 2\n",
    "#### Date: 19/10/2025\n",
    "\n",
    "#### Objective: Comparing if the sum of the left and right nodes of a binary trhee is equal to its root\n",
    "#### Input: [10,6,4]\n",
    "#### Output: True \n",
    "\n",
    "#### Complexity:\n",
    "#### Time:\n",
    "#### Space:"
   ]
  },
  {
   "cell_type": "code",
   "execution_count": null,
   "id": "72e21eed",
   "metadata": {},
   "outputs": [],
   "source": [
    "# Definition for a binary tree node.\n",
    "# class TreeNode:\n",
    "#     def __init__(self, val=0, left=None, right=None):\n",
    "#         self.val = val\n",
    "#         self.left = left\n",
    "#         self.right = right\n",
    "class Solution:\n",
    "    def checkTree(self, root: Optional[TreeNode]) -> bool:\n",
    "        if root.val == root.left.val + root.right.val:\n",
    "            return True\n",
    "        else: \n",
    "            return False\n",
    "        \n"
   ]
  },
  {
   "cell_type": "markdown",
   "id": "7943027b",
   "metadata": {},
   "source": [
    "### Exercise 3\n",
    "#### Date: 19/10/2025\n",
    "\n",
    "#### Objective: Return a running sum array of the elements, basically, sum the i+i-1 from the input array\n",
    "\n",
    "#### Example 1:\n",
    "\n",
    "#### Input: nums = [1,2,3,4]\n",
    "#### Output: [1,3,6,10]\n",
    "#### Explanation: Running sum is obtained as follows: [1, 1+2, 1+2+3, 1+2+3+4].\n",
    "\n",
    "#### Complexity:\n",
    "#### Time: O(n), reason: the more the number of elements in the array, more time will take to print it\n",
    "#### Space: O(n), reason: In this case, the size of the output array will be the same size of the input array. But, if the code is changed to use the nums array to store the result array, the space complexity will be constant O(1)"
   ]
  },
  {
   "cell_type": "code",
   "execution_count": null,
   "id": "64cabb77",
   "metadata": {},
   "outputs": [],
   "source": [
    "from typing import List\n",
    "\n",
    "# My solution\n",
    "class Solution:\n",
    "    def runningSum(self, nums: List[int]) -> List[int]:\n",
    "        runsumlist = []\n",
    "        result = 0\n",
    "        for item in nums:\n",
    "            result += item\n",
    "            runsumlist.append(result)\n",
    "        return runsumlist\n",
    "    \n",
    "print([1,2,3,4])\n",
    "print(Solution().runningSum([1,2,3,4]))\n",
    "\n",
    "# Best Solution\n",
    "class Solution:\n",
    "    def runningSum(self, nums: List[int]) -> List[int]:\n",
    "        for i in range(1, len(nums)):\n",
    "            nums[i] += nums[i - 1]\n",
    "        return nums\n"
   ]
  },
  {
   "cell_type": "markdown",
   "id": "7720045d",
   "metadata": {},
   "source": [
    "### Exercise 4\n",
    "#### Date: 20/10/2025\n",
    "\n",
    "#### Objective: Give an List os List representing the bankary wealth of person, need to calculate the max of earch person bank value and print the highest\n",
    "\n",
    "#### Example 1:\n",
    "\n",
    "#### IInput: accounts = [[1,2,3],[3,2,1]]\n",
    "#### Output: 6\n",
    "#### Explanation:\n",
    "#### 1st customer has wealth = 1 + 2 + 3 = 6\n",
    "#### 2nd customer has wealth = 3 + 2 + 1 = 6\n",
    "#### Both customers are considered the richest with a wealth of 6 each, so return 6.\n",
    "\n",
    "#### Complexity:\n",
    "#### Time: O(n^2), reason:\n",
    "#### Space: O(1), reason: "
   ]
  },
  {
   "cell_type": "code",
   "execution_count": null,
   "id": "e9776923",
   "metadata": {},
   "outputs": [
    {
     "name": "stdout",
     "output_type": "stream",
     "text": [
      "6\n"
     ]
    }
   ],
   "source": [
    "class Solution:\n",
    "    def maximumWealth(self, accounts: List[List[int]]) -> int:\n",
    "        maxwealth = []\n",
    "        somatoria = 0\n",
    "        for outer_list_item in accounts:\n",
    "            for inner_list_item in outer_list_item:\n",
    "                somatoria += inner_list_item\n",
    "            \n",
    "            maxwealth.append(somatoria)\n",
    "            somatoria = 0\n",
    "       \n",
    "        return max(maxwealth)\n",
    "    \n",
    "\n",
    "print(Solution().maximumWealth([[1,2,3],[3,2,1]]))"
   ]
  },
  {
   "cell_type": "markdown",
   "id": "e5e1d88d",
   "metadata": {},
   "source": [
    "### Exercise 4\n",
    "#### Date: 20/10/2025\n",
    "\n",
    "#### Objective: Give an List os List representing the bankary wealth of person, need to calculate the max of earch person bank value and print the highest\n",
    "\n",
    "#### Example 1:\n",
    "\n",
    "#### IInput: accounts = [[1,2,3],[3,2,1]]\n",
    "#### Output: 6\n",
    "#### Explanation:\n",
    "#### 1st customer has wealth = 1 + 2 + 3 = 6\n",
    "#### 2nd customer has wealth = 3 + 2 + 1 = 6\n",
    "#### Both customers are considered the richest with a wealth of 6 each, so return 6.\n",
    "\n",
    "#### Complexity:\n",
    "#### Time: O(n^2), reason:\n",
    "#### Space: O(2), reason: "
   ]
  },
  {
   "cell_type": "code",
   "execution_count": 5,
   "id": "13c9d961",
   "metadata": {},
   "outputs": [
    {
     "name": "stdout",
     "output_type": "stream",
     "text": [
      "['1', '2', 'Fizz']\n"
     ]
    }
   ],
   "source": [
    "from typing import List\n",
    "\n",
    "\n",
    "class Solution:\n",
    "    def fizzBuzz(self, n: int) -> List[str]:\n",
    "        array = []\n",
    "        for i in range(1,n+1):\n",
    "            if (i % 3 == 0) and (i % 5 == 0):\n",
    "                array.append(\"FizzBuzz\")\n",
    "            elif i % 3 == 0:\n",
    "                array.append(\"Fizz\")\n",
    "            elif i % 5 == 0:\n",
    "                array.append(\"Buzz\")\n",
    "            else:\n",
    "                array.append(f'{i}')\n",
    "\n",
    "        return array\n",
    "    \n",
    "print(Solution().fizzBuzz(3))"
   ]
  }
 ],
 "metadata": {
  "kernelspec": {
   "display_name": "Python 3",
   "language": "python",
   "name": "python3"
  },
  "language_info": {
   "codemirror_mode": {
    "name": "ipython",
    "version": 3
   },
   "file_extension": ".py",
   "mimetype": "text/x-python",
   "name": "python",
   "nbconvert_exporter": "python",
   "pygments_lexer": "ipython3",
   "version": "3.11.9"
  }
 },
 "nbformat": 4,
 "nbformat_minor": 5
}
